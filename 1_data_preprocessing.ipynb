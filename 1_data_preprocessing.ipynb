{
 "cells": [
  {
   "cell_type": "code",
   "execution_count": 1,
   "metadata": {},
   "outputs": [],
   "source": [
    "import pandas as pd\n",
    "import re\n",
    "from datetime import datetime"
   ]
  },
  {
   "cell_type": "code",
   "execution_count": 2,
   "metadata": {},
   "outputs": [],
   "source": [
    "class ChatParser:\n",
    "    def __init__(self, file_path):\n",
    "        '''\n",
    "        Initialize the parser with the file path of the chat text file.\n",
    "        file_path: Path to the Whatsapp chat text file.\n",
    "        '''\n",
    "        self.file_path = file_path\n",
    "        self.messages = None\n",
    "    \n",
    "    def parse_chat(self):\n",
    "        '''\n",
    "        Parse the Whatsapp chat text file.\n",
    "        Extracts timestamp, sender, message, and message length and returns a DataFrame.     \n",
    "        '''\n",
    "        with open(self.file_path, 'r', encoding='utf-8') as file:\n",
    "            chat_data = file.readlines()\n",
    "        \n",
    "        messages = []\n",
    "        pattern = r'(\\d{2}/\\d{2}/\\d{4}, \\d{2}:\\d{2}) - (.+?): (.+)'\n",
    "        \n",
    "        for line in chat_data:\n",
    "            match = re.match(pattern, line.strip())\n",
    "            if match:\n",
    "                timestamp_str, sender, message = match.groups()\n",
    "                try:\n",
    "                    timestamp = datetime.strptime(timestamp_str, '%d/%m/%Y, %H:%M')\n",
    "                    messages.append({\n",
    "                        'timestamp': timestamp,\n",
    "                        'sender': sender,\n",
    "                        'message': message.strip(),\n",
    "                        'message_length': len(message)\n",
    "                    })\n",
    "                except ValueError:\n",
    "                    print(f\"Skipping invalid line: {line}\")\n",
    "        \n",
    "        self.messages = pd.DataFrame(messages)\n",
    "        return self.messages\n",
    "    \n",
    "    def clean_data(self):\n",
    "        '''\n",
    "        Clean the parsed chat data by removing unwanted rows.\n",
    "        Removes rows containing info that is not useful for analysis.\n",
    "        '''\n",
    "        if self.messages is None:\n",
    "            raise ValueError('Chat data is not parsed yet. Please call parse_chat() first.')\n",
    "        \n",
    "        unwanted_messages = [\n",
    "            '<Media omitted>',\n",
    "            'This message was deleted',\n",
    "            'You deleted this message',\n",
    "            'Missed voice call',\n",
    "            'Missed video call',\n",
    "            'null'\n",
    "        ]\n",
    "\n",
    "        self.messages = self.messages[~self.messages['message'].isin(unwanted_messages)]\n",
    "        return self.messages\n",
    "    \n",
    "    def export_to_csv(self, output_path):\n",
    "        '''\n",
    "        Export the cleaned data to a CSV file.\n",
    "        output_path: Path to save the CSV file.\n",
    "        '''\n",
    "        if self.messages is None:\n",
    "            raise ValueError('No data to export. Please ensure the chat data is parsed and cleaned first.')\n",
    "        \n",
    "        self.messages.to_csv(output_path, index=False)\n",
    "        print(f'Data exported successfully to {output_path}')"
   ]
  },
  {
   "cell_type": "code",
   "execution_count": 3,
   "metadata": {},
   "outputs": [
    {
     "name": "stdout",
     "output_type": "stream",
     "text": [
      "Data exported successfully to Whatsapp_Chat.csv\n"
     ]
    }
   ],
   "source": [
    "# Example Usage\n",
    "# Initialize the parser with the text file\n",
    "parser = ChatParser('WhatsApp_Chat.txt')\n",
    "\n",
    "# Parse the chat text file\n",
    "messages = parser.parse_chat()\n",
    "\n",
    "# Clean unnecessary data \n",
    "cleaned_messages = parser.clean_data()\n",
    "\n",
    "# Export chat data to CSV file\n",
    "parser.export_to_csv('Whatsapp_Chat.csv')"
   ]
  }
 ],
 "metadata": {
  "kernelspec": {
   "display_name": "Python 3",
   "language": "python",
   "name": "python3"
  },
  "language_info": {
   "codemirror_mode": {
    "name": "ipython",
    "version": 3
   },
   "file_extension": ".py",
   "mimetype": "text/x-python",
   "name": "python",
   "nbconvert_exporter": "python",
   "pygments_lexer": "ipython3",
   "version": "3.12.8"
  }
 },
 "nbformat": 4,
 "nbformat_minor": 2
}
