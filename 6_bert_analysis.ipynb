{
 "cells": [
  {
   "cell_type": "code",
   "execution_count": 1,
   "metadata": {},
   "outputs": [
    {
     "name": "stderr",
     "output_type": "stream",
     "text": [
      "C:\\Users\\aravi\\AppData\\Roaming\\Python\\Python312\\site-packages\\tqdm\\auto.py:21: TqdmWarning: IProgress not found. Please update jupyter and ipywidgets. See https://ipywidgets.readthedocs.io/en/stable/user_install.html\n",
      "  from .autonotebook import tqdm as notebook_tqdm\n"
     ]
    }
   ],
   "source": [
    "import pandas as pd\n",
    "import numpy as np\n",
    "import torch\n",
    "from transformers import BertTokenizer, BertModel\n",
    "import matplotlib.pyplot as plt\n",
    "from sklearn.manifold import TSNE\n",
    "from sklearn.cluster import KMeans\n",
    "from sklearn.metrics import silhouette_score\n",
    "import logging"
   ]
  },
  {
   "cell_type": "code",
   "execution_count": 2,
   "metadata": {},
   "outputs": [],
   "source": [
    "# Configure logging\n",
    "logging.basicConfig(level=logging.INFO, format='%(asctime)s - %(levelname)s - %(message)s')\n",
    "\n",
    "class BERTChatAnalyzer:\n",
    "    def __init__(self, data, model_name='bert-base-uncased'):\n",
    "        try:\n",
    "            self.data = data.dropna(subset=['message']).reset_index(drop=True)\n",
    "            # Load pre-trained BERT model and tokenizer\n",
    "            self.tokenizer = BertTokenizer.from_pretrained(model_name)\n",
    "            self.model = BertModel.from_pretrained(model_name)\n",
    "            print(f\"BERT model '{model_name}' loaded successfully.\")\n",
    "        except Exception as e:\n",
    "            raise RuntimeError(f\"Failed to load BERT model '{model_name}': {e}\")\n",
    "\n",
    "    def get_bert_embeddings(self, messages):\n",
    "        '''Generate BERT embeddings for messages'''\n",
    "        embeddings = []\n",
    "        try:\n",
    "            for message in messages:\n",
    "                # Tokenize and encode messages\n",
    "                inputs = self.tokenizer(message, return_tensors='pt', truncation=True, max_length=512, padding=True)\n",
    "\n",
    "                # Generate embeddings\n",
    "                with torch.no_grad():\n",
    "                    outputs = self.model(**inputs)\n",
    "                    # Use the [CLS] token embedding (first token)\n",
    "                    embedding = outputs.last_hidden_state[0][0].numpy()\n",
    "                    embeddings.append(embedding)\n",
    "        except Exception as e:\n",
    "            logging.error(f\"Error generating BERT embeddings: {e}\")\n",
    "        \n",
    "        return np.array(embeddings)\n",
    "    \n",
    "    def cluster_conversations(self, embeddings, n_clusters=5, random_state=42):\n",
    "        '''Cluster conversation using K-means and visualize with t-SNE.'''\n",
    "        try:\n",
    "            # Dimensionality reduction for visualization\n",
    "            tsne = TSNE(n_components=2, random_state=random_state)\n",
    "            embeddings_2d = tsne.fit_transform(embeddings)\n",
    "\n",
    "            # Clustering with K-Means\n",
    "            kmeans = KMeans(n_clusters=n_clusters, random_state=random_state)\n",
    "            clusters = kmeans.fit_predict(embeddings)\n",
    "\n",
    "            # Visualization\n",
    "            plt.style.use('dark_background')\n",
    "            plt.figure(figsize=(10, 8))\n",
    "            scatter = plt.scatter(x=embeddings_2d[:, 0], y=embeddings_2d[:, 1], c=clusters, cmap='viridis')\n",
    "            plt.title('Conversation Clusters with K-Means', fontsize=16, color='#25D366')\n",
    "            plt.colorbar(scatter)\n",
    "            plt.show()\n",
    "        except Exception as e:\n",
    "            logging.error(f'Error in clustering or visualization: {e}')\n",
    "\n",
    "        return clusters\n",
    "    \n",
    "    def analyze_conversation_semantic(self):\n",
    "        '''Comprehensive BERT-based conversation analysis'''\n",
    "        try:\n",
    "            if 'message' not in self.data.columns:\n",
    "                raise ValueError(\"Input data must contain a 'message' column.\")\n",
    "            \n",
    "            # Generate embeddings\n",
    "            logging.info(\"Generating BERT embeddings...\")\n",
    "            embeddings = self.get_bert_embeddings(self.data['message'])\n",
    "\n",
    "            # Cluster conversations\n",
    "            logging.info(\"Clustering conversations...\")\n",
    "            conversation_clusters = self.cluster_conversations(embeddings)\n",
    "\n",
    "            # Add cluster information to DataFrame\n",
    "            self.data['conversation_cluster'] = conversation_clusters\n",
    "\n",
    "            # Calculate Silhouette Score\n",
    "            logging.info(\"Calculating silhouette score...\")\n",
    "            silhouette_avg = silhouette_score(embeddings, conversation_clusters)\n",
    "\n",
    "            # Cluster analysis\n",
    "            cluster_analysis = self.data.groupby('conversation_cluster')['sender'].agg([\n",
    "                ('unique_users', lambda x: x.nunique()),\n",
    "                ('message_count', 'count')\n",
    "            ])\n",
    "\n",
    "            logging.info(f\"Silhouette Score: {silhouette_avg}\")\n",
    "\n",
    "            return {\n",
    "                'Embeddings': embeddings,\n",
    "                'Clusters': conversation_clusters,\n",
    "                'Cluster Analysis': cluster_analysis,\n",
    "                'Silhouette Score': silhouette_avg\n",
    "            }\n",
    "        except Exception as e:\n",
    "            raise RuntimeError(f'Error during conversation analysis: {e}')\n",
    "    \n",
    "    def export_to_csv(self, output_path):\n",
    "        '''\n",
    "        Export the updated data to a CSV file.\n",
    "        output_path: Path to save the CSV file.\n",
    "        '''\n",
    "        self.data.to_csv(output_path, index=False)\n",
    "        print(f'Updated data exported successfully to {output_path}')"
   ]
  },
  {
   "cell_type": "code",
   "execution_count": null,
   "metadata": {},
   "outputs": [
    {
     "name": "stderr",
     "output_type": "stream",
     "text": [
      "2025-01-28 13:54:08,728 - INFO - Generating BERT embeddings...\n"
     ]
    },
    {
     "name": "stdout",
     "output_type": "stream",
     "text": [
      "BERT model 'bert-base-uncased' loaded successfully.\n"
     ]
    }
   ],
   "source": [
    "# Load the data\n",
    "data = pd.read_csv('Whatsapp_Chat.csv')\n",
    "\n",
    "# Initialize the BERT chat analyzer\n",
    "bert_analyzer = BERTChatAnalyzer(data)\n",
    "\n",
    "# Analyze \n",
    "bert_results = bert_analyzer.analyze_conversation_semantic()\n",
    "\n",
    "# Print the results\n",
    "if bert_results:\n",
    "    print(\"\\n BERT Chat Analysis Results:\")\n",
    "    print(f\"\\n Silhouette Score: \\n {bert_results['Silhouette Score']}\")\n",
    "    print(f\"\\n Cluster Analysis: \\n {bert_results['Cluster Analysis']}\")\n",
    "\n",
    "# Export updated data to CSV\n",
    "bert_analyzer.export_to_csv('Whatsapp_Chat.csv')"
   ]
  },
  {
   "cell_type": "markdown",
   "metadata": {},
   "source": [
    "**High-level Understanding (Plot Insights)**\n",
    "\n",
    "1. **Conversation Clusters:** The plot shows several distinct clusters of chat messages, indicating that there are different conversation topics present in the group chat.\n",
    "\n",
    "2. **Cluster Separation:** The clear separation between the clusters suggests that the conversations are quite distinct from each other in terms of their semantic content and communication patterns.\n",
    "\n",
    "3. **Cluster Sizes:** The varying sizes of the clusters imply that some conversation topics or themes are more dominant than others in the overall chat history.\n",
    "\n",
    "4. **Outliers:** The scattered individual points outside the main clusters could possibly represent unique or anomalous messages that don't fit well into the identified conversation themes."
   ]
  }
 ],
 "metadata": {
  "kernelspec": {
   "display_name": "Python 3",
   "language": "python",
   "name": "python3"
  },
  "language_info": {
   "codemirror_mode": {
    "name": "ipython",
    "version": 3
   },
   "file_extension": ".py",
   "mimetype": "text/x-python",
   "name": "python",
   "nbconvert_exporter": "python",
   "pygments_lexer": "ipython3",
   "version": "3.12.8"
  }
 },
 "nbformat": 4,
 "nbformat_minor": 2
}
